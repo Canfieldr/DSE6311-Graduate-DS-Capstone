{
 "cells": [
  {
   "cell_type": "code",
   "execution_count": 1,
   "id": "a2146ead",
   "metadata": {},
   "outputs": [],
   "source": [
    "import numpy as np\n",
    "import pandas as pd\n",
    "import matplotlib.pyplot as plt\n",
    "from sklearn.preprocessing import StandardScaler\n",
    "from sklearn.neighbors import NearestNeighbors\n",
    "from sklearn.metrics import silhouette_score\n"
   ]
  },
  {
   "cell_type": "code",
   "execution_count": 2,
   "id": "aa82ffc2",
   "metadata": {},
   "outputs": [],
   "source": [
    "# Load in the full dataset\n",
    "df = pd.read_csv(\"encoded_data.csv\")\n",
    "\n",
    "# Make a copy of the full dataset; this is the one we will manipulate while still retaining the full original data\n",
    "df_subset = df\n",
    "Just_AI_Satisfaction = df_subset['AI_Satisfaction']\n",
    "df_subset = df_subset.drop('AI_Satisfaction', axis=1) # Taking out target variable\n"
   ]
  },
  {
   "cell_type": "code",
   "execution_count": 3,
   "id": "b6d7e536",
   "metadata": {},
   "outputs": [],
   "source": [
    "# Scale the data like within LDA\n",
    "scaler = StandardScaler()\n",
    "scaled_df = scaler.fit_transform(df_subset)\n"
   ]
  },
  {
   "cell_type": "code",
   "execution_count": 5,
   "id": "78d0a4b2",
   "metadata": {},
   "outputs": [],
   "source": [
    "# Using KNN to calculate the nearest neighbors\n",
    "knn = NearestNeighbors(n_neighbors = 5) \n",
    "knn.fit(scaled_df)\n",
    "distances, indices = knn.kneighbors(scaled_df)\n"
   ]
  },
  {
   "cell_type": "code",
   "execution_count": 6,
   "id": "828e8c98",
   "metadata": {},
   "outputs": [],
   "source": [
    "# Calculating how many points are closest to each of the 5 clusters\n",
    "# This works by counting how many times each point appears as a neighbor to others\n",
    "\n",
    "neighbor_counts = np.zeros(scaled_df.shape[0])\n",
    "\n",
    "for i in range(scaled_df.shape[0]):\n",
    "    neighbor_counts[indices[i]] += 1  \n",
    "    "
   ]
  },
  {
   "cell_type": "code",
   "execution_count": 7,
   "id": "de580a6e",
   "metadata": {},
   "outputs": [],
   "source": [
    "# Finding the two most frequent or biggest clusters based on neighbor counts\n",
    "# We are selecting the two largest sets of neighbors or dense regions to add back to our data set\n",
    "top_clusters = np.argsort(neighbor_counts)[-2:]  \n",
    "\n"
   ]
  },
  {
   "cell_type": "code",
   "execution_count": 8,
   "id": "d6caab84",
   "metadata": {},
   "outputs": [
    {
     "name": "stdout",
     "output_type": "stream",
     "text": [
      "   Country  Age  Annual_Salary  Gender  Education  \\\n",
      "0      165    2              3       0          3   \n",
      "1      165    1              1       1          2   \n",
      "2      165    2              3       1          2   \n",
      "3      165    2              4       1          2   \n",
      "4      165    1              1       1          2   \n",
      "\n",
      "   Payment_Method_Credit_Debit  Living_Region  Online_Service_Preference  \\\n",
      "0                            0              1                          0   \n",
      "1                            1              1                          0   \n",
      "2                            1             11                          1   \n",
      "3                            1             11                          1   \n",
      "4                            0             11                          1   \n",
      "\n",
      "   AI_Enhance_Experience  AI_Tools_Used_Chatbots  ...  \\\n",
      "0                      1                       1  ...   \n",
      "1                      1                       1  ...   \n",
      "2                      1                       0  ...   \n",
      "3                      1                       0  ...   \n",
      "4                      1                       1  ...   \n",
      "\n",
      "   Product_Category_Appliances  Product_Category_Electronics  \\\n",
      "0                            1                             1   \n",
      "1                            1                             1   \n",
      "2                            1                             1   \n",
      "3                            1                             1   \n",
      "4                            1                             0   \n",
      "\n",
      "   Product_Category_Groceries  Product_Category_Personal_Care  \\\n",
      "0                           1                               1   \n",
      "1                           0                               0   \n",
      "2                           1                               0   \n",
      "3                           1                               0   \n",
      "4                           1                               0   \n",
      "\n",
      "   Product_Category_Clothing  AI_Trust  AI_Usage  KNNCluster1  KNNCluster2  \\\n",
      "0                          1         2         3            0            0   \n",
      "1                          0         2         3            0            0   \n",
      "2                          0         2         1            0            0   \n",
      "3                          1         2         0            0            0   \n",
      "4                          1         2         1            0            0   \n",
      "\n",
      "   AI_Satisfaction  \n",
      "0                1  \n",
      "1                1  \n",
      "2                1  \n",
      "3                1  \n",
      "4                1  \n",
      "\n",
      "[5 rows x 24 columns]\n"
     ]
    }
   ],
   "source": [
    "# Putting the top clusters back into the dataframe \n",
    "df_subset['KNNCluster1'] = np.where(np.isin(np.arange(scaled_df.shape[0]), indices[top_clusters[0]]), 1, 0)\n",
    "df_subset['KNNCluster2'] = np.where(np.isin(np.arange(scaled_df.shape[0]), indices[top_clusters[1]]), 1, 0)\n",
    "\n",
    "# Adding the target variable back into the dataset\n",
    "df_subset['AI_Satisfaction'] = Just_AI_Satisfaction\n",
    "\n",
    "# Printing the updated dataset\n",
    "print(df_subset.head())\n",
    "\n"
   ]
  },
  {
   "cell_type": "code",
   "execution_count": 9,
   "id": "96ec3fbe",
   "metadata": {},
   "outputs": [],
   "source": [
    "from os import read\n",
    "# Export DataFrame to CSV\n",
    "df_subset.to_csv('FE_final_data.csv', index=False)\n"
   ]
  },
  {
   "cell_type": "code",
   "execution_count": null,
   "id": "7dee18d0",
   "metadata": {},
   "outputs": [],
   "source": []
  }
 ],
 "metadata": {
  "kernelspec": {
   "display_name": "Python 3 (ipykernel)",
   "language": "python",
   "name": "python3"
  },
  "language_info": {
   "codemirror_mode": {
    "name": "ipython",
    "version": 3
   },
   "file_extension": ".py",
   "mimetype": "text/x-python",
   "name": "python",
   "nbconvert_exporter": "python",
   "pygments_lexer": "ipython3",
   "version": "3.9.7"
  }
 },
 "nbformat": 4,
 "nbformat_minor": 5
}
